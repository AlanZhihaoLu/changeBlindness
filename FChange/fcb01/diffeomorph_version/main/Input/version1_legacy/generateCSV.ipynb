{
 "cells": [
  {
   "cell_type": "code",
   "execution_count": 25,
   "id": "toxic-toilet",
   "metadata": {},
   "outputs": [],
   "source": [
    "import os\n",
    "from tkinter import filedialog\n",
    "from tkinter import *\n",
    "import numpy as np\n",
    "import re\n",
    "import random as rdm"
   ]
  },
  {
   "cell_type": "code",
   "execution_count": 26,
   "id": "herbal-hypothesis",
   "metadata": {},
   "outputs": [],
   "source": [
    "# Get scene images directory\n",
    "if not os.path.isdir(os.getcwd()+'/scene_images'):\n",
    "    root = Tk()\n",
    "    root.withdraw()\n",
    "    scene_dir = filedialog.askdirectory()\n",
    "else:\n",
    "    scene_dir = os.getcwd()+'/scene_images'\n",
    "    \n",
    "# Get morphed scene images directory\n",
    "if not os.path.isdir(os.getcwd()+'/morphed_images'):\n",
    "    root = Tk()\n",
    "    root.withdraw()\n",
    "    morphed_dir = filedialog.askdirectory()\n",
    "else:\n",
    "    morphed_dir = os.getcwd()+'/morphed_images'"
   ]
  },
  {
   "cell_type": "code",
   "execution_count": 27,
   "id": "brave-portable",
   "metadata": {},
   "outputs": [],
   "source": [
    "morphscenes = os.listdir(morphed_dir)\n",
    "allScenes = {}\n",
    "for scene in morphscenes:\n",
    "    if scene.endswith('.png'):\n",
    "        cur_info = np.array(scene.split('_'))\n",
    "        cur_scene = '_'.join(cur_info[0:len(cur_info)-3]) + '.png'\n",
    "        cur_xy = re.findall('[0-9]+', cur_info[3])\n",
    "        cur_type = cur_info[2]\n",
    "        if cur_scene not in allScenes.keys():\n",
    "            allScenes[cur_scene] = {}\n",
    "        allScenes[cur_scene][cur_type] = {'morphed':scene,'x':cur_xy[0],'y':cur_xy[1]}\n",
    "            "
   ]
  },
  {
   "cell_type": "code",
   "execution_count": 28,
   "id": "83bd2193-4676-4a27-ade6-1165a2952179",
   "metadata": {},
   "outputs": [],
   "source": [
    "# remove unnecessary scenes from scene directory\n",
    "scenes = list(allScenes.keys())\n",
    "scenesindir = os.listdir(scene_dir)\n",
    "for scene in scenesindir:\n",
    "    if scene not in scenes:\n",
    "        os.remove(scene_dir + '/' + scene)\n",
    "        \n",
    "# sanity check\n",
    "scenes = np.sort(list(allScenes.keys()))\n",
    "scenesindir = np.sort(os.listdir(scene_dir))\n",
    "if not np.array_equal(scenes, scenesindir):\n",
    "    raise ValueError('Scenes are missing in scene directory or morphed scene directory')"
   ]
  },
  {
   "cell_type": "code",
   "execution_count": 29,
   "id": "distant-adams",
   "metadata": {},
   "outputs": [],
   "source": [
    "# create two conditions, counterbalanced red/green across participants\n",
    "scene_n = len(allScenes.keys())\n",
    "# assign randomized red/green conditions\n",
    "redgreen = np.concatenate((np.zeros(int(scene_n/2), dtype=bool), np.ones(int(scene_n/2), dtype=bool)))\n",
    "rdm.shuffle(redgreen)\n",
    "# randomize order of scenes \n",
    "scene_order = list(allScenes.keys())\n",
    "rdm.shuffle(scene_order)"
   ]
  },
  {
   "cell_type": "code",
   "execution_count": 30,
   "id": "62e8b07f-43ec-44a1-b0c2-1ac2c92283b1",
   "metadata": {},
   "outputs": [],
   "source": [
    "# write conditions in .tsv format since morphed scenes names contain commas \n",
    "# write first condition\n",
    "with open('input01.tsv', 'w') as f:\n",
    "    f.write('x\\ty\\tfirst_image\\tsecond_image\\trad\\ttype\\n')\n",
    "    for idx in range(len(scene_order)):\n",
    "        if redgreen[idx]:\n",
    "            cur_type = 'red'\n",
    "        else:\n",
    "            cur_type = 'green'\n",
    "        cur_scene = scene_order[idx]\n",
    "        cur_x = int(allScenes[cur_scene][cur_type]['x'])\n",
    "        cur_y = int(allScenes[cur_scene][cur_type]['y'])\n",
    "        cur_second_img = allScenes[cur_scene][cur_type]['morphed']\n",
    "        f.write(f'{cur_x}\\t{cur_y}\\t{cur_scene}\\t{cur_second_img}\\t43.5\\t{cur_type}\\n')\n",
    "# write second condition\n",
    "with open('input02.tsv', 'w') as f:\n",
    "    f.write('x\\ty\\tfirst_image\\tsecond_image\\trad\\ttype\\n')\n",
    "    for idx in range(len(scene_order)):\n",
    "        if not redgreen[idx]:\n",
    "            cur_type = 'red'\n",
    "        else:\n",
    "            cur_type = 'green'\n",
    "        cur_scene = scene_order[idx]\n",
    "        cur_x = int(allScenes[cur_scene][cur_type]['x'])\n",
    "        cur_y = int(allScenes[cur_scene][cur_type]['y'])\n",
    "        cur_second_img = allScenes[cur_scene][cur_type]['morphed']\n",
    "        f.write(f'{cur_x}\\t{cur_y}\\t{cur_scene}\\t{cur_second_img}\\t43.5\\t{cur_type}\\n')"
   ]
  },
  {
   "cell_type": "code",
   "execution_count": 49,
   "id": "d7bc4701-f21a-4b0f-8d26-e8482ad86f21",
   "metadata": {},
   "outputs": [],
   "source": [
    "def tsv2js(fn):\n",
    "    data=[{}]\n",
    "    with open(f'{fn}.js', 'w') as outfile, open(f'{fn}.tsv','r') as f:\n",
    "        firstline = f.readline()\n",
    "        columns = firstline.split()\n",
    "        lines = f.readlines()\n",
    "        for line in lines:\n",
    "            values = line.split()\n",
    "            entry = dict(zip(columns, values))\n",
    "            data.append(entry)\n",
    "        strdata = f'{data[1:]}'\n",
    "        strdata = strdata.replace('}, ','},\\n')\n",
    "        outfile.write('var test_stimuli = ')\n",
    "        outfile.write(strdata)"
   ]
  },
  {
   "cell_type": "code",
   "execution_count": 50,
   "id": "41bddc87-a7f1-4c65-9f47-65fffb2c0e6f",
   "metadata": {},
   "outputs": [],
   "source": [
    "tsv2js('input01')\n",
    "tsv2js('input02')"
   ]
  },
  {
   "cell_type": "code",
   "execution_count": null,
   "id": "88a6f81a-1e2c-440b-b951-8a2a3b3525f5",
   "metadata": {},
   "outputs": [],
   "source": []
  }
 ],
 "metadata": {
  "kernelspec": {
   "display_name": "Python 3 (ipykernel)",
   "language": "python",
   "name": "python3"
  },
  "language_info": {
   "codemirror_mode": {
    "name": "ipython",
    "version": 3
   },
   "file_extension": ".py",
   "mimetype": "text/x-python",
   "name": "python",
   "nbconvert_exporter": "python",
   "pygments_lexer": "ipython3",
   "version": "3.9.7"
  }
 },
 "nbformat": 4,
 "nbformat_minor": 5
}
