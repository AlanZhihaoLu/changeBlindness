{
 "cells": [
  {
   "cell_type": "code",
   "execution_count": 1,
   "id": "78e0017c-2bfe-4d23-a87b-deb414478021",
   "metadata": {},
   "outputs": [],
   "source": [
    "import os\n",
    "from tkinter import filedialog\n",
    "from tkinter import *\n",
    "import numpy as np\n",
    "import re\n",
    "import random as rdm\n",
    "import pandas as pd"
   ]
  },
  {
   "cell_type": "code",
   "execution_count": 2,
   "id": "68575f5f-91ad-4210-968f-7b0f8d1d7b14",
   "metadata": {},
   "outputs": [],
   "source": [
    "# Get scene images directory\n",
    "if not os.path.isdir(os.getcwd()+'/scene_images'):\n",
    "    root = Tk()\n",
    "    root.withdraw()\n",
    "    scene_dir = filedialog.askdirectory()\n",
    "else:\n",
    "    scene_dir = os.getcwd()+'/scene_images'\n",
    "    \n",
    "# Get morphed scene images directory\n",
    "if not os.path.isdir(os.getcwd()+'/morphed_images'):\n",
    "    root = Tk()\n",
    "    root.withdraw()\n",
    "    morphed_dir = filedialog.askdirectory()\n",
    "else:\n",
    "    morphed_dir = os.getcwd()+'/morphed_images'"
   ]
  },
  {
   "cell_type": "code",
   "execution_count": 3,
   "id": "00ded10c-e239-4aae-b476-e4de0f9840f3",
   "metadata": {},
   "outputs": [],
   "source": [
    "# # clean scene_images directory, if necessary\n",
    "# scenes = []\n",
    "# for scene in os.listdir(morphed_dir):\n",
    "#     scenes.append(''.join([scene.split('_')[0], '_', scene.split('_')[1], '.png']))\n",
    "# not_scenes = set(os.listdir(scene_dir)).difference(scenes)\n",
    "# for not_scene in not_scenes:\n",
    "#     os.remove(os.path.join(scene_dir, not_scene))"
   ]
  },
  {
   "cell_type": "code",
   "execution_count": 6,
   "id": "a5e31bd1-876e-48b7-810b-9582a0763ddc",
   "metadata": {},
   "outputs": [],
   "source": [
    "demo_scene = 'target_desert.png'\n",
    "rad = 102.5"
   ]
  },
  {
   "cell_type": "code",
   "execution_count": 7,
   "id": "e88c2d49-c7ba-495e-bc5f-558bb1952184",
   "metadata": {},
   "outputs": [],
   "source": [
    "scenes = []\n",
    "for file in os.listdir(scene_dir):\n",
    "    if file.endswith('.png'):\n",
    "        scenes.append(file)\n",
    "scenes.remove(demo_scene)\n",
    "# randomly shuffle scenes\n",
    "rdm.shuffle(scenes)"
   ]
  },
  {
   "cell_type": "code",
   "execution_count": 8,
   "id": "a1c7eac3-cf0f-40ad-bd89-5812c798fab9",
   "metadata": {},
   "outputs": [],
   "source": []
  },
  {
   "cell_type": "code",
   "execution_count": 9,
   "id": "414aef8f-8a94-482d-afca-2cdc52e5d162",
   "metadata": {},
   "outputs": [],
   "source": [
    "patch_df = pd.read_csv('FCB01_patch_info.csv')\n",
    "data = {} # store patch_df data in python dictionary\n",
    "for i in range(len(patch_df.index)):\n",
    "    cur_root = patch_df['RootScene'].iloc[i]\n",
    "    cur_type = patch_df['type'].iloc[i]\n",
    "    cur_xy = [patch_df['Patch_X'].iloc[i],patch_df['Patch_Y'].iloc[i]]\n",
    "    cur_morph = patch_df['MorphScene'].iloc[i]\n",
    "    cur_dict = {'x': cur_xy[0], 'y': cur_xy[1], 'morphedScene': cur_morph}\n",
    "    if cur_root in data:\n",
    "        data[cur_root][cur_type] = cur_dict\n",
    "    else:\n",
    "        data[cur_root] = {}\n",
    "        data[cur_root][cur_type] = cur_dict\n",
    "demo_data = data.pop(demo_scene)"
   ]
  },
  {
   "cell_type": "code",
   "execution_count": 11,
   "id": "1478136b-5253-46fe-8f26-b9630f55e023",
   "metadata": {},
   "outputs": [],
   "source": [
    "n_scenes = len(scenes)\n",
    "cond_types = ['HighMean', 'HighSal']\n",
    "n_conds = len(cond_types)\n",
    "n_per_cond = n_scenes/n_conds\n",
    "cond_id = 0\n",
    "conds = np.array([])\n",
    "for i in range(n_conds):\n",
    "    conds = np.concatenate((conds, np.repeat(cond_id, n_per_cond)))\n",
    "    cond_id += 1\n",
    "conds = np.array(conds, dtype='int')"
   ]
  },
  {
   "cell_type": "code",
   "execution_count": 19,
   "id": "278e8115-6ef9-4a47-b64f-be60d964088a",
   "metadata": {},
   "outputs": [],
   "source": [
    "for i in range(n_conds):\n",
    "    with open(f'input0{i+1}.js', 'w') as f:\n",
    "        f.write('var raw_stimuli = [')\n",
    "        for ii in range(n_scenes):\n",
    "            cur_scene = scenes[ii]\n",
    "            cur_type = cond_types[conds[ii]]\n",
    "            cur_morphed = data[cur_scene][cur_type]['morphedScene']\n",
    "            cur_x = data[cur_scene][cur_type]['x']\n",
    "            cur_y = data[cur_scene][cur_type]['y']\n",
    "            f.write(f\"{{'first_image':'{cur_scene}','second_image':'{cur_morphed}','type':'{cur_type}','patches':{{'x':[{cur_x}],'y':[{cur_y}],'rad':[{rad}]}}}}\")\n",
    "            if ii < (n_scenes - 1): \n",
    "                f.write(',\\n')\n",
    "            else:\n",
    "                f.write('];')\n",
    "        f.write('\\nvar example_stimulus = [')\n",
    "        for ii in range(len(demo_data)):\n",
    "            demo_type = cond_types[ii]\n",
    "            demo_morphed = demo_data[demo_type]['morphedScene']\n",
    "            demo_x = demo_data[demo_type]['x']\n",
    "            demo_y = demo_data[demo_type]['y']\n",
    "            demo_scene_circled = demo_morphed.split('.')\n",
    "            demo_scene_circled = ''.join([demo_scene_circled[0], '_circled.', demo_scene_circled[1]])\n",
    "            f.write(f\"{{'first_image':'{demo_scene}','second_image':'{demo_morphed}','circled_image':'{demo_scene_circled}','type':'{demo_type}','patches':{{'x':[{demo_x}],'y':[{demo_y}],'rad':[{rad}]}}}}\")\n",
    "            if ii < (len(demo_data) - 1): \n",
    "                f.write(',\\n')\n",
    "            else:\n",
    "                f.write('];')\n",
    "    conds = (conds + 1) % 2"
   ]
  },
  {
   "cell_type": "code",
   "execution_count": 18,
   "id": "9418310d-676d-49a4-8f69-757cd2ae4e42",
   "metadata": {},
   "outputs": [
    {
     "data": {
      "text/plain": [
       "'target_desert_HighSal_circled.a'"
      ]
     },
     "execution_count": 18,
     "metadata": {},
     "output_type": "execute_result"
    }
   ],
   "source": []
  }
 ],
 "metadata": {
  "kernelspec": {
   "display_name": "Python 3 (ipykernel)",
   "language": "python",
   "name": "python3"
  },
  "language_info": {
   "codemirror_mode": {
    "name": "ipython",
    "version": 3
   },
   "file_extension": ".py",
   "mimetype": "text/x-python",
   "name": "python",
   "nbconvert_exporter": "python",
   "pygments_lexer": "ipython3",
   "version": "3.9.7"
  }
 },
 "nbformat": 4,
 "nbformat_minor": 5
}
