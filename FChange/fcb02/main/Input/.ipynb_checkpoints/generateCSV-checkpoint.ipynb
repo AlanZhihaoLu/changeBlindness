{
 "cells": [
  {
   "cell_type": "code",
   "execution_count": 25,
   "id": "toxic-toilet",
   "metadata": {},
   "outputs": [],
   "source": [
    "import os\n",
    "from tkinter import filedialog\n",
    "from tkinter import *\n",
    "import numpy as np\n",
    "import re\n",
    "import random as rdm"
   ]
  },
  {
   "cell_type": "code",
   "execution_count": 26,
   "id": "herbal-hypothesis",
   "metadata": {},
   "outputs": [],
   "source": [
    "# Get scene images directory\n",
    "if not os.path.isdir(os.getcwd()+'/scene_images'):\n",
    "    root = Tk()\n",
    "    root.withdraw()\n",
    "    scene_dir = filedialog.askdirectory()\n",
    "else:\n",
    "    scene_dir = os.getcwd()+'/scene_images'\n",
    "    \n",
    "# Get morphed scene images directory\n",
    "if not os.path.isdir(os.getcwd()+'/morphed_images'):\n",
    "    root = Tk()\n",
    "    root.withdraw()\n",
    "    morphed_dir = filedialog.askdirectory()\n",
    "else:\n",
    "    morphed_dir = os.getcwd()+'/morphed_images'"
   ]
  },
  {
   "cell_type": "code",
   "execution_count": 27,
   "id": "brave-portable",
   "metadata": {},
   "outputs": [],
   "source": [
    "morphscenes = os.listdir(morphed_dir)\n",
    "allScenes = {}\n",
    "for scene in morphscenes:\n",
    "    if scene.endswith('.png'):\n",
    "        cur_info = np.array(scene.split('_'))\n",
    "        cur_scene = '_'.join(cur_info[0:len(cur_info)-3]) + '.png'\n",
    "        cur_xy = re.findall('[0-9]+', cur_info[3])\n",
    "        cur_type = cur_info[2]\n",
    "        if cur_scene not in allScenes.keys():\n",
    "            allScenes[cur_scene] = {}\n",
    "        allScenes[cur_scene][cur_type] = {'morphed':scene,'x':cur_xy[0],'y':cur_xy[1]}\n",
    "            "
   ]
  },
  {
   "cell_type": "code",
   "execution_count": 28,
   "id": "83bd2193-4676-4a27-ade6-1165a2952179",
   "metadata": {},
   "outputs": [],
   "source": [
    "# remove unnecessary scenes from scene directory\n",
    "scenes = list(allScenes.keys())\n",
    "scenesindir = os.listdir(scene_dir)\n",
    "for scene in scenesindir:\n",
    "    if scene not in scenes:\n",
    "        os.remove(scene_dir + '/' + scene)\n",
    "        \n",
    "# sanity check\n",
    "scenes = np.sort(list(allScenes.keys()))\n",
    "scenesindir = np.sort(os.listdir(scene_dir))\n",
    "if not np.array_equal(scenes, scenesindir):\n",
    "    raise ValueError('Scenes are missing in scene directory or morphed scene directory')"
   ]
  },
  {
   "cell_type": "code",
   "execution_count": 29,
   "id": "distant-adams",
   "metadata": {},
   "outputs": [],
   "source": [
    "# create two conditions, counterbalanced red/green across participants\n",
    "scene_n = len(allScenes.keys())\n",
    "# assign randomized red/green conditions\n",
    "redgreen = np.concatenate((np.zeros(int(scene_n/2), dtype=bool), np.ones(int(scene_n/2), dtype=bool)))\n",
    "rdm.shuffle(redgreen)\n",
    "# randomize order of scenes \n",
    "scene_order = list(allScenes.keys())\n",
    "rdm.shuffle(scene_order)"
   ]
  },
  {
   "cell_type": "code",
   "execution_count": 30,
   "id": "62e8b07f-43ec-44a1-b0c2-1ac2c92283b1",
   "metadata": {},
   "outputs": [],
   "source": [
    "# write conditions in .tsv format since morphed scenes names contain commas \n",
    "# write first condition\n",
    "with open('input01.tsv', 'w') as f:\n",
    "    f.write('x\\ty\\tfirst_image\\tsecond_image\\trad\\ttype\\n')\n",
    "    for idx in range(len(scene_order)):\n",
    "        if redgreen[idx]:\n",
    "            cur_type = 'red'\n",
    "        else:\n",
    "            cur_type = 'green'\n",
    "        cur_scene = scene_order[idx]\n",
    "        cur_x = int(allScenes[cur_scene][cur_type]['x'])\n",
    "        cur_y = int(allScenes[cur_scene][cur_type]['y'])\n",
    "        cur_second_img = allScenes[cur_scene][cur_type]['morphed']\n",
    "        f.write(f'{cur_x}\\t{cur_y}\\t{cur_scene}\\t{cur_second_img}\\t43.5\\t{cur_type}\\n')\n",
    "# write second condition\n",
    "with open('input02.tsv', 'w') as f:\n",
    "    f.write('x\\ty\\tfirst_image\\tsecond_image\\trad\\ttype\\n')\n",
    "    for idx in range(len(scene_order)):\n",
    "        if not redgreen[idx]:\n",
    "            cur_type = 'red'\n",
    "        else:\n",
    "            cur_type = 'green'\n",
    "        cur_scene = scene_order[idx]\n",
    "        cur_x = int(allScenes[cur_scene][cur_type]['x'])\n",
    "        cur_y = int(allScenes[cur_scene][cur_type]['y'])\n",
    "        cur_second_img = allScenes[cur_scene][cur_type]['morphed']\n",
    "        f.write(f'{cur_x}\\t{cur_y}\\t{cur_scene}\\t{cur_second_img}\\t43.5\\t{cur_type}\\n')"
   ]
  },
  {
   "cell_type": "code",
   "execution_count": 47,
   "id": "d7bc4701-f21a-4b0f-8d26-e8482ad86f21",
   "metadata": {},
   "outputs": [],
   "source": [
    "def tsv2js(fn):\n",
    "    data=[{}]\n",
    "    with open(f'{fn}.js', 'w') as outfile, open(f'{fn}.tsv','r') as f:\n",
    "        firstline = f.readline()\n",
    "        columns = firstline.split()\n",
    "        lines = f.readlines()\n",
    "        for line in lines:\n",
    "            values = line.split()\n",
    "            entry = dict(zip(columns, values))\n",
    "            data.append(entry)\n",
    "        strdata = f'{data[1:]}'\n",
    "        strdata = strdata.replace('}, ','},\\n')\n",
    "        outfile.write('var test_stimuli = ')\n",
    "        outfile.write(strdata)"
   ]
  },
  {
   "cell_type": "code",
   "execution_count": 48,
   "id": "41bddc87-a7f1-4c65-9f47-65fffb2c0e6f",
   "metadata": {},
   "outputs": [],
   "source": [
    "tsv2js('input01')\n",
    "tsv2js('input02')"
   ]
  },
  {
   "cell_type": "code",
   "execution_count": 46,
   "id": "ca7e907f-9e3c-40fa-98b8-a105e8d4031f",
   "metadata": {},
   "outputs": [
    {
     "data": {
      "text/plain": [
       "\"[{'x': '180', 'y': '282', 'first_image': 'target_coffeeshop.png', 'second_image': 'target_coffeeshop_green_(180,282)_dist80.png', 'rad': '43.5', 'type': 'green'},\\n{'x': '843', 'y': '639', 'first_image': 'target_artstudio.png', 'second_image': 'target_artstudio_red_(843,639)_dist80.png', 'rad': '43.5', 'type': 'red'},\\n{'x': '435', 'y': '78', 'first_image': 'target_refrigerator.png', 'second_image': 'target_refrigerator_green_(435,78)_dist80.png', 'rad': '43.5', 'type': 'green'},\\n{'x': '843', 'y': '384', 'first_image': 'target_temple.png', 'second_image': 'target_temple_green_(843,384)_dist80.png', 'rad': '43.5', 'type': 'green'},\\n{'x': '435', 'y': '588', 'first_image': 'target_stream.png', 'second_image': 'target_stream_green_(435,588)_dist80.png', 'rad': '43.5', 'type': 'green'},\\n{'x': '537', 'y': '537', 'first_image': 'target_church.png', 'second_image': 'target_church_green_(537,537)_dist80.png', 'rad': '43.5', 'type': 'green'},\\n{'x': '129', 'y': '78', 'first_image': 'target_marsh.png', 'second_image': 'target_marsh_red_(129,78)_dist80.png', 'rad': '43.5', 'type': 'red'},\\n{'x': '945', 'y': '333', 'first_image': 'target_backyard.png', 'second_image': 'target_backyard_red_(945,333)_dist80.png', 'rad': '43.5', 'type': 'red'},\\n{'x': '894', 'y': '639', 'first_image': 'target_bathroom.png', 'second_image': 'target_bathroom_red_(894,639)_dist80.png', 'rad': '43.5', 'type': 'red'},\\n{'x': '588', 'y': '690', 'first_image': 'target_bakery.png', 'second_image': 'target_bakery_red_(588,690)_dist80.png', 'rad': '43.5', 'type': 'red'},\\n{'x': '894', 'y': '282', 'first_image': 'target_laundryroom.png', 'second_image': 'target_laundryroom_green_(894,282)_dist80.png', 'rad': '43.5', 'type': 'green'},\\n{'x': '843', 'y': '639', 'first_image': 'target_mediaroom.png', 'second_image': 'target_mediaroom_red_(843,639)_dist80.png', 'rad': '43.5', 'type': 'red'},\\n{'x': '537', 'y': '384', 'first_image': 'target_hairsalon.png', 'second_image': 'target_hairsalon_green_(537,384)_dist80.png', 'rad': '43.5', 'type': 'green'},\\n{'x': '843', 'y': '78', 'first_image': 'target_garage.png', 'second_image': 'target_garage_red_(843,78)_dist80.png', 'rad': '43.5', 'type': 'red'},\\n{'x': '129', 'y': '690', 'first_image': 'target_hardwarestore.png', 'second_image': 'target_hardwarestore_green_(129,690)_dist80.png', 'rad': '43.5', 'type': 'green'},\\n{'x': '639', 'y': '282', 'first_image': 'target_bedroom.png', 'second_image': 'target_bedroom_green_(639,282)_dist80.png', 'rad': '43.5', 'type': 'green'},\\n{'x': '588', 'y': '690', 'first_image': 'target_constructionsite.png', 'second_image': 'target_constructionsite_red_(588,690)_dist80.png', 'rad': '43.5', 'type': 'red'},\\n{'x': '78', 'y': '384', 'first_image': 'target_swamp.png', 'second_image': 'target_swamp_red_(78,384)_dist80.png', 'rad': '43.5', 'type': 'red'},\\n{'x': '843', 'y': '639', 'first_image': 'target_deli.png', 'second_image': 'target_deli_green_(843,639)_dist80.png', 'rad': '43.5', 'type': 'green'},\\n{'x': '537', 'y': '231', 'first_image': 'target_courtroom.png', 'second_image': 'target_courtroom_green_(537,231)_dist80.png', 'rad': '43.5', 'type': 'green'},\\n{'x': '792', 'y': '537', 'first_image': 'target_treehouse.png', 'second_image': 'target_treehouse_green_(792,537)_dist80.png', 'rad': '43.5', 'type': 'green'},\\n{'x': '129', 'y': '180', 'first_image': 'target_nursery.png', 'second_image': 'target_nursery_red_(129,180)_dist80.png', 'rad': '43.5', 'type': 'red'},\\n{'x': '741', 'y': '78', 'first_image': 'target_hospital.png', 'second_image': 'target_hospital_red_(741,78)_dist80.png', 'rad': '43.5', 'type': 'red'},\\n{'x': '690', 'y': '690', 'first_image': 'target_beach.png', 'second_image': 'target_beach_red_(690,690)_dist80.png', 'rad': '43.5', 'type': 'red'},\\n{'x': '945', 'y': '486', 'first_image': 'target_playground.png', 'second_image': 'target_playground_green_(945,486)_dist80.png', 'rad': '43.5', 'type': 'green'},\\n{'x': '435', 'y': '231', 'first_image': 'target_diner.png', 'second_image': 'target_diner_green_(435,231)_dist80.png', 'rad': '43.5', 'type': 'green'},\\n{'x': '129', 'y': '588', 'first_image': 'target_mountain.png', 'second_image': 'target_mountain_red_(129,588)_dist80.png', 'rad': '43.5', 'type': 'red'},\\n{'x': '384', 'y': '78', 'first_image': 'target_toystore.png', 'second_image': 'target_toystore_green_(384,78)_dist80.png', 'rad': '43.5', 'type': 'green'},\\n{'x': '231', 'y': '231', 'first_image': 'target_airport.png', 'second_image': 'target_airport_red_(231,231)_dist80.png', 'rad': '43.5', 'type': 'red'},\\n{'x': '129', 'y': '690', 'first_image': 'target_canyon.png', 'second_image': 'target_canyon_red_(129,690)_dist80.png', 'rad': '43.5', 'type': 'red'},\\n{'x': '588', 'y': '639', 'first_image': 'target_porch.png', 'second_image': 'target_porch_green_(588,639)_dist80.png', 'rad': '43.5', 'type': 'green'},\\n{'x': '945', 'y': '282', 'first_image': 'target_grassland.png', 'second_image': 'target_grassland_red_(945,282)_dist80.png', 'rad': '43.5', 'type': 'red'},\\n{'x': '690', 'y': '435', 'first_image': 'target_winecellar.png', 'second_image': 'target_winecellar_green_(690,435)_dist80.png', 'rad': '43.5', 'type': 'green'},\\n{'x': '537', 'y': '333', 'first_image': 'target_dentistoffice.png', 'second_image': 'target_dentistoffice_green_(537,333)_dist80.png', 'rad': '43.5', 'type': 'green'},\\n{'x': '180', 'y': '690', 'first_image': 'target_soccerfield.png', 'second_image': 'target_soccerfield_red_(180,690)_dist80.png', 'rad': '43.5', 'type': 'red'},\\n{'x': '792', 'y': '639', 'first_image': 'target_sewingroom.png', 'second_image': 'target_sewingroom_red_(792,639)_dist80.png', 'rad': '43.5', 'type': 'red'},\\n{'x': '843', 'y': '690', 'first_image': 'target_cemetery.png', 'second_image': 'target_cemetery_red_(843,690)_dist80.png', 'rad': '43.5', 'type': 'red'},\\n{'x': '129', 'y': '384', 'first_image': 'target_classroom.png', 'second_image': 'target_classroom_red_(129,384)_dist80.png', 'rad': '43.5', 'type': 'red'},\\n{'x': '435', 'y': '384', 'first_image': 'target_field.png', 'second_image': 'target_field_green_(435,384)_dist80.png', 'rad': '43.5', 'type': 'green'},\\n{'x': '945', 'y': '486', 'first_image': 'target_tunnel.png', 'second_image': 'target_tunnel_red_(945,486)_dist80.png', 'rad': '43.5', 'type': 'red'},\\n{'x': '894', 'y': '639', 'first_image': 'target_park.png', 'second_image': 'target_park_red_(894,639)_dist80.png', 'rad': '43.5', 'type': 'red'},\\n{'x': '129', 'y': '486', 'first_image': 'target_library.png', 'second_image': 'target_library_green_(129,486)_dist80.png', 'rad': '43.5', 'type': 'green'},\\n{'x': '282', 'y': '282', 'first_image': 'target_clothingstore.png', 'second_image': 'target_clothingstore_green_(282,282)_dist80.png', 'rad': '43.5', 'type': 'green'},\\n{'x': '435', 'y': '690', 'first_image': 'target_ranch.png', 'second_image': 'target_ranch_red_(435,690)_dist80.png', 'rad': '43.5', 'type': 'red'},\\n{'x': '282', 'y': '180', 'first_image': 'target_atticRoom.png', 'second_image': 'target_atticRoom_red_(282,180)_dist80.png', 'rad': '43.5', 'type': 'red'},\\n{'x': '282', 'y': '435', 'first_image': 'target_patio.png', 'second_image': 'target_patio_green_(282,435)_dist80.png', 'rad': '43.5', 'type': 'green'},\\n{'x': '78', 'y': '333', 'first_image': 'target_recordingstudio.png', 'second_image': 'target_recordingstudio_green_(78,333)_dist80.png', 'rad': '43.5', 'type': 'green'},\\n{'x': '588', 'y': '690', 'first_image': 'target_buffet.png', 'second_image': 'target_buffet_red_(588,690)_dist80.png', 'rad': '43.5', 'type': 'red'},\\n{'x': '435', 'y': '588', 'first_image': 'target_forrest.png', 'second_image': 'target_forrest_red_(435,588)_dist80.png', 'rad': '43.5', 'type': 'red'},\\n{'x': '282', 'y': '180', 'first_image': 'target_stable.png', 'second_image': 'target_stable_green_(282,180)_dist80.png', 'rad': '43.5', 'type': 'green'},\\n{'x': '690', 'y': '78', 'first_image': 'target_waterfall.png', 'second_image': 'target_waterfall_green_(690,78)_dist80.png', 'rad': '43.5', 'type': 'green'},\\n{'x': '945', 'y': '78', 'first_image': 'target_ruins.png', 'second_image': 'target_ruins_green_(945,78)_dist80.png', 'rad': '43.5', 'type': 'green'},\\n{'x': '639', 'y': '690', 'first_image': 'target_fishingvillage.png', 'second_image': 'target_fishingvillage_red_(639,690)_dist80.png', 'rad': '43.5', 'type': 'red'}]\""
      ]
     },
     "execution_count": 46,
     "metadata": {},
     "output_type": "execute_result"
    }
   ],
   "source": []
  },
  {
   "cell_type": "code",
   "execution_count": null,
   "id": "3e05f9ca-9acf-48cf-837f-26b1beed944d",
   "metadata": {},
   "outputs": [],
   "source": []
  }
 ],
 "metadata": {
  "kernelspec": {
   "display_name": "Python 3 (ipykernel)",
   "language": "python",
   "name": "python3"
  },
  "language_info": {
   "codemirror_mode": {
    "name": "ipython",
    "version": 3
   },
   "file_extension": ".py",
   "mimetype": "text/x-python",
   "name": "python",
   "nbconvert_exporter": "python",
   "pygments_lexer": "ipython3",
   "version": "3.9.7"
  }
 },
 "nbformat": 4,
 "nbformat_minor": 5
}
